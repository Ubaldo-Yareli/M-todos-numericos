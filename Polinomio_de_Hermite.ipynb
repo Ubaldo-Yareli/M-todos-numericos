{
  "nbformat": 4,
  "nbformat_minor": 0,
  "metadata": {
    "colab": {
      "provenance": [],
      "authorship_tag": "ABX9TyOASXSh54+oRZ7r0eV3u3kM",
      "include_colab_link": true
    },
    "kernelspec": {
      "name": "python3",
      "display_name": "Python 3"
    },
    "language_info": {
      "name": "python"
    }
  },
  "cells": [
    {
      "cell_type": "markdown",
      "metadata": {
        "id": "view-in-github",
        "colab_type": "text"
      },
      "source": [
        "<a href=\"https://colab.research.google.com/github/Ubaldo-Yareli/M-todos-numericos/blob/main/Polinomio_de_Hermite.ipynb\" target=\"_parent\"><img src=\"https://colab.research.google.com/assets/colab-badge.svg\" alt=\"Open In Colab\"/></a>"
      ]
    },
    {
      "cell_type": "code",
      "execution_count": 7,
      "metadata": {
        "id": "2Xr7LAmzAmwu"
      },
      "outputs": [],
      "source": [
        "import numpy as np\n",
        "import sympy as sp"
      ]
    },
    {
      "cell_type": "markdown",
      "source": [
        "En el polinomio de Hermite, se utilizan ciertos valores de $x$ evaluados en un polinomio, es decir $f(x)$ y esos mismos valores de $x$ evaluados en la primera derivada de ese polinomio, es decir, $f'(x)$."
      ],
      "metadata": {
        "id": "pSUKXjUpCP1Y"
      }
    },
    {
      "cell_type": "code",
      "source": [
        "#Datos que se ocuparán\n",
        "x=np.array([1.3, 1.6, 1.9]) #Valores de x\n",
        "fx=np.array([0.6200860, 0.4554022, 0.2818186]) #Valores al evaluar \"x\" en el polinomio\n",
        "derivada1x=np.array([-0.5220232, -0.5698959, -0.5811571]) #Valores de evaluar \"x\" en la primera derivada\n"
      ],
      "metadata": {
        "id": "RxpQsZgZAp3_"
      },
      "execution_count": 8,
      "outputs": []
    },
    {
      "cell_type": "code",
      "source": [
        "import numpy as np\n",
        "import sympy as sp\n",
        "#Datos que se ocuparán\n",
        "x=np.array([1.3, 1.6, 1.9])\n",
        "fx=np.array([0.6200860, 0.4554022, 0.2818186])\n",
        "derivada1x=np.array([-0.5220232, -0.5698959, -0.5811571])\n",
        "\n",
        "# Paso 1: Crear la tabla z y Q\n",
        "n=len(x)\n",
        "z=np.zeros(2*n)\n",
        "Q=np.zeros((2*n, 2*n))\n",
        "\n",
        "# Paso 2: Asignar valores iniciales a z y Q\n",
        "for i in range(n):\n",
        "    z[2*i]=z[2*i+1]=x[i]\n",
        "    Q[2*i][0]=Q[2*i+1][0]=fx[i]\n",
        "    Q[2*i+1][1]=derivada1x[i]\n",
        "    if i != 0:\n",
        "        Q[2*i][1]=(Q[2*i][0]-Q[2*i-1][0])/(z[2*i]-z[2*i-1])\n",
        "\n",
        "# Paso 3: Llenar la tabla Q con las diferencias divididas\n",
        "for i in range(2, 2*n):\n",
        "    for j in range(2, i+1):\n",
        "        Q[i][j]=(Q[i][j-1]-Q[i-1][j-1])/(z[i]-z[i-j])\n",
        "\n",
        "\n",
        "# Mostrar la tabla de diferencias divididas\n",
        "print(\"Tabla de diferencias divididas:\")\n",
        "print(Q)\n",
        "\n",
        "# Evaluar el polinomio en un punto\n",
        "evaluacion = 1.5\n",
        "valor=polinomio_Hermite(evaluacion)\n",
        "print(f\"El valor del polinomio evaluado en {evaluacion} es aproximadamente {valor}\")\n"
      ],
      "metadata": {
        "colab": {
          "base_uri": "https://localhost:8080/"
        },
        "id": "AJx2ARAUAwNL",
        "outputId": "e60e97fc-5b39-4c08-e63f-88cd32b3cb4b"
      },
      "execution_count": 13,
      "outputs": [
        {
          "output_type": "stream",
          "name": "stdout",
          "text": [
            "Tabla de diferencias divididas:\n",
            "[[ 0.620086    0.          0.          0.          0.          0.        ]\n",
            " [ 0.620086   -0.5220232   0.          0.          0.          0.        ]\n",
            " [ 0.4554022  -0.548946   -0.08974267  0.          0.          0.        ]\n",
            " [ 0.4554022  -0.5698959  -0.069833    0.06636556  0.          0.        ]\n",
            " [ 0.2818186  -0.578612   -0.02905367  0.06796556  0.00266667  0.        ]\n",
            " [ 0.2818186  -0.5811571  -0.00848367  0.06856667  0.00100185 -0.00277469]]\n",
            "El valor del polinomio evaluado en 1.5 es aproximadamente 0.5118277017283951\n"
          ]
        }
      ]
    },
    {
      "cell_type": "markdown",
      "source": [
        "Al realizar la tabla, se repiten dos veces los valores de cada $f(x)$, en este caso, los valores de $0.6200860$, $0.4554022$ y $0.2818186$, y se denominan como $f[z_0]$, $f[z_1]$, etc. posteriomente, se encuentra las primeras diferencias divididas, las cuales, son ya sea la evaluacion en la primera derivada cuando los valores de $f(x)$ son los mismos o con la fórmula $f[z_1,z_2]=$$\\frac{f[z_2]-f[z_1]}{z_2-z_1}$, cambiando los subíndices dependiendo de los valores de $f[z]$ que estén siendo utilizados.\n"
      ],
      "metadata": {
        "id": "IEutyt87C1Pp"
      }
    },
    {
      "cell_type": "markdown",
      "source": [
        "El polinomio de Hermite se enscuentra con la fórmula $H_{2n+1}(x)=f[z_0]+\\sum_{k=1}^{2n+1}f[z_0,..., z_k](x - z_0)(x - z_1)...(x - z_{k-1}).$\n"
      ],
      "metadata": {
        "id": "_C1xf0H2HWEt"
      }
    }
  ]
}