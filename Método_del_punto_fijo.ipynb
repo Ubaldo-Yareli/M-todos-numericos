{
  "nbformat": 4,
  "nbformat_minor": 0,
  "metadata": {
    "colab": {
      "provenance": [],
      "authorship_tag": "ABX9TyM5lcf4myFTUMS+2HbGSo/a",
      "include_colab_link": true
    },
    "kernelspec": {
      "name": "python3",
      "display_name": "Python 3"
    },
    "language_info": {
      "name": "python"
    }
  },
  "cells": [
    {
      "cell_type": "markdown",
      "metadata": {
        "id": "view-in-github",
        "colab_type": "text"
      },
      "source": [
        "<a href=\"https://colab.research.google.com/github/Ubaldo-Yareli/M-todos-numericos/blob/main/M%C3%A9todo_del_punto_fijo.ipynb\" target=\"_parent\"><img src=\"https://colab.research.google.com/assets/colab-badge.svg\" alt=\"Open In Colab\"/></a>"
      ]
    },
    {
      "cell_type": "code",
      "execution_count": 53,
      "metadata": {
        "id": "wHN_-vU6YEgq"
      },
      "outputs": [],
      "source": [
        "from math import *\n",
        "import numpy as np\n",
        "import matplotlib . pyplot as plt"
      ]
    },
    {
      "cell_type": "markdown",
      "source": [
        "Al aplicar el teoriema del valor intermedio a la función orginial $x^3-1-1=0$ en el intervalo $[1, 2]$, se puede saber que existe un punto donde  la función se hace 0, sin embargo, no nos sirve para poder encontrar el punto fijo, por lo que se reescribe la función como $\\sqrt{1+(1/x)}=x$"
      ],
      "metadata": {
        "id": "n4YNNsbjESke"
      }
    },
    {
      "cell_type": "code",
      "source": [
        "def funcion(x):\n",
        "    return sqrt(1+(1/x))"
      ],
      "metadata": {
        "id": "a3kD5uFXY-jr"
      },
      "execution_count": 54,
      "outputs": []
    },
    {
      "cell_type": "code",
      "source": [
        "def iterar(pinicial, tol=1e-2):\n",
        "    pactual=pinicial\n",
        "    iter=0\n",
        "    print(\"# iter\\t\\t p \\t\\t g(p) (redondeado) \\t\\t error\") #Imprime el inicio de la tabla\n",
        "    pnuevo=funcion(pactual)\n",
        "    print(f\"{iter}\\t\\t {pactual:.3f} \\t\\t {pnuevo:.3f} \\t\\t\\t\\t {'-'}\")  # No tiene error\n",
        "    pactual=pnuevo\n",
        "    iter+=1\n",
        "    error = 100 #Hasta 100 iteraciones\n",
        "\n",
        "    while error>tol:\n",
        "        pnuevo=funcion(pactual)\n",
        "        error=abs(pnuevo-pactual) #abs=valor absoluto\n",
        "        print(f\"{iter}\\t\\t {pactual:.3f} \\t\\t {pnuevo:.3f} \\t\\t\\t\\t {error:.3f}\")\n",
        "        pactual=pnuevo\n",
        "        iter+=1\n",
        "\n",
        "    print(f\"\\nEl resultado final es de {pactual:.3f}, con error de {error:.3f}\")\n",
        "\n",
        "    return pactual, error\n",
        "\n",
        "resultado=iterar(1)\n",
        "\n",
        ""
      ],
      "metadata": {
        "colab": {
          "base_uri": "https://localhost:8080/"
        },
        "id": "ALkjLfhNZBs3",
        "outputId": "ef086cd8-1e19-4ea6-ebed-c0c130c28004"
      },
      "execution_count": 78,
      "outputs": [
        {
          "output_type": "stream",
          "name": "stdout",
          "text": [
            "# iter\t\t p \t\t g(p) (redondeado) \t\t error\n",
            "0\t\t 1.000 \t\t 1.414 \t\t\t\t -\n",
            "1\t\t 1.414 \t\t 1.307 \t\t\t\t 0.108\n",
            "2\t\t 1.307 \t\t 1.329 \t\t\t\t 0.022\n",
            "3\t\t 1.329 \t\t 1.324 \t\t\t\t 0.005\n",
            "\n",
            "El resultado final es de 1.324, con error de 0.005\n"
          ]
        }
      ]
    },
    {
      "cell_type": "markdown",
      "source": [
        "Se inicia el valor de \"p\" en $1$, posteriormente, se evalúa en la función y al error ser $|Pn-(Pn-1)|$, la iteración $0$, no tiene error, después, $g(p)$ pasa a ser el nuevo valor de $p$ y se realizan los mismos pasos, en esta ocasión, ya hay un valor dentro del error."
      ],
      "metadata": {
        "id": "1Hx9Lb2wFyrj"
      }
    }
  ]
}