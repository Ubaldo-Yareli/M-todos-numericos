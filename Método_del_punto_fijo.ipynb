{
  "nbformat": 4,
  "nbformat_minor": 0,
  "metadata": {
    "colab": {
      "provenance": [],
      "authorship_tag": "ABX9TyOBRuKBUpyV1cVftDdW97FL",
      "include_colab_link": true
    },
    "kernelspec": {
      "name": "python3",
      "display_name": "Python 3"
    },
    "language_info": {
      "name": "python"
    }
  },
  "cells": [
    {
      "cell_type": "markdown",
      "metadata": {
        "id": "view-in-github",
        "colab_type": "text"
      },
      "source": [
        "<a href=\"https://colab.research.google.com/github/Ubaldo-Yareli/M-todos-numericos/blob/main/M%C3%A9todo_del_punto_fijo.ipynb\" target=\"_parent\"><img src=\"https://colab.research.google.com/assets/colab-badge.svg\" alt=\"Open In Colab\"/></a>"
      ]
    },
    {
      "cell_type": "code",
      "execution_count": 53,
      "metadata": {
        "id": "wHN_-vU6YEgq"
      },
      "outputs": [],
      "source": [
        "from math import *\n",
        "import numpy as np\n",
        "import matplotlib . pyplot as plt"
      ]
    },
    {
      "cell_type": "code",
      "source": [
        "def funcion(x):\n",
        "    return sqrt(1+(1/x))"
      ],
      "metadata": {
        "id": "a3kD5uFXY-jr"
      },
      "execution_count": 54,
      "outputs": []
    },
    {
      "cell_type": "code",
      "source": [
        "def iterar(pinicial, tol=1e-2):\n",
        "    pactual=pinicial\n",
        "    error=100\n",
        "    iter=0\n",
        "    print(\"# iter\\t\\t p \\t\\t g(p) \\t\\t error\")\n",
        "\n",
        "    while error>tol:\n",
        "        pnuevo=funcion(pactual)\n",
        "        error=abs(pnuevo-pactual)\n",
        "        print(f\"{iter}\\t\\t {pactual:.3f} \\t\\t {pnuevo:.3f} \\t\\t {error:.3f}\")\n",
        "        pactual=pnuevo\n",
        "        iter+=1\n",
        "\n",
        "    return pactual\n",
        "resultado=iterar(1)"
      ],
      "metadata": {
        "colab": {
          "base_uri": "https://localhost:8080/"
        },
        "id": "ALkjLfhNZBs3",
        "outputId": "9a51a0e4-34b9-4625-e2dd-3f1ef5c5c0b5"
      },
      "execution_count": 58,
      "outputs": [
        {
          "output_type": "stream",
          "name": "stdout",
          "text": [
            "# iter\t\t p \t\t g(p) \t\t error\n",
            "0\t\t 1.000 \t\t 1.414 \t\t 0.414\n",
            "1\t\t 1.414 \t\t 1.307 \t\t 0.108\n",
            "2\t\t 1.307 \t\t 1.329 \t\t 0.022\n",
            "3\t\t 1.329 \t\t 1.324 \t\t 0.005\n"
          ]
        }
      ]
    }
  ]
}