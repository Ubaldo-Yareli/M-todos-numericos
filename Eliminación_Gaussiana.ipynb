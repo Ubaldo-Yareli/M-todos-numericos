{
  "nbformat": 4,
  "nbformat_minor": 0,
  "metadata": {
    "colab": {
      "provenance": [],
      "authorship_tag": "ABX9TyPeH6N6kTLoe31nntFnX9AC",
      "include_colab_link": true
    },
    "kernelspec": {
      "name": "python3",
      "display_name": "Python 3"
    },
    "language_info": {
      "name": "python"
    }
  },
  "cells": [
    {
      "cell_type": "markdown",
      "metadata": {
        "id": "view-in-github",
        "colab_type": "text"
      },
      "source": [
        "<a href=\"https://colab.research.google.com/github/Ubaldo-Yareli/M-todos-numericos/blob/main/Eliminaci%C3%B3n_Gaussiana.ipynb\" target=\"_parent\"><img src=\"https://colab.research.google.com/assets/colab-badge.svg\" alt=\"Open In Colab\"/></a>"
      ]
    },
    {
      "cell_type": "markdown",
      "source": [
        "El método de $\\mbox{eliminación Gaussiana con sustitución hacia atrás}$ busca encontrar las soluciones a un sistema de ecuaciones.\n",
        "\n",
        "El método consiste en hacer que la entrada $a_{11}$ sea igual a $1$ (entrada pivote), para posteriormente hacer $0$ debajo de dicha entrada.\n",
        "\n",
        "La entrada $a_{22}$, de igual forma debe ser una entrada pivote, por lo que se realizan las operaciones básicas necesarias para que sea igual a $1$ y una vez más hacer $0$ los valores de la entrada.\n",
        "\n",
        "Dichos pasos se repiten hasta encontrar las soluciones del sistema de ecuaciones (si es que es único) si no es único sale el mensaje $\\mbox{\"No hay solución única al sistema\"}$."
      ],
      "metadata": {
        "id": "TzVAwuSHAJuc"
      }
    },
    {
      "cell_type": "markdown",
      "source": [
        "La matriz $\"A\"$, es una matriz aumentada, la cual, tiene $\"n\"$ filas y $\"n+1\"$ colúmnas, donde la última colúmna representa los terminos independientes del sistema."
      ],
      "metadata": {
        "id": "FazeuoCsAQaa"
      }
    },
    {
      "cell_type": "code",
      "execution_count": null,
      "metadata": {
        "colab": {
          "base_uri": "https://localhost:8080/"
        },
        "id": "aRTVbEVVv44k",
        "outputId": "ae3765a2-6d6c-42b0-cdf8-38fc87d76497"
      },
      "outputs": [
        {
          "output_type": "stream",
          "name": "stdout",
          "text": [
            "El resultado del sistema de ecuaciones es [x1, x2, x3, x4] = [-7.  3.  2.  2.]\n"
          ]
        }
      ],
      "source": [
        "import numpy as np\n",
        "\n",
        "def eliminacion_gaussiana(A):\n",
        "    n=len(A)\n",
        "\n",
        "    for i in range(n-1): #Proceso de eliminación\n",
        "        p=-1\n",
        "        for k in range(i, n):\n",
        "            if A[k, i] !=0: #Los pivotes deben ser diferentes de cero\n",
        "                p=k\n",
        "                break\n",
        "\n",
        "        if p==-1:\n",
        "            return \"No hay solución única al sistema\"\n",
        "\n",
        "        #Si el pivote se encuentra fila distinta a la primera, se realiza un intercambio de filas\n",
        "        if p!=i:\n",
        "            A[[i, p]]=A[[p, i]]\n",
        "\n",
        "        #Hacer 0 las entradas debajo de la entrada pivote\n",
        "        for j in range(i+1, n):\n",
        "            m_ji=A[j, i]/A[i, i]\n",
        "            A[j, i:]-=m_ji*A[i, i:]\n",
        "\n",
        "    #Si hay alguna entrada pivote igual a 0, existe infinidad de ecuaciones\n",
        "    if A[n-1, n-1]==0:\n",
        "        return \"No hay solución única al sistema\"\n",
        "\n",
        "    #Se realiza el proceso de sustitución hacia atrás\n",
        "    x=np.zeros(n)\n",
        "    x[n-1]=A[n-1, n]/A[n-1, n-1]\n",
        "\n",
        "    for i in range(n-2, -1, -1):\n",
        "        suma=sum(A[i, j] * x[j] for j in range(i+1, n))\n",
        "        x[i]=(A[i, n]-suma)/A[i, i]\n",
        "    return x\n",
        "\n",
        "A = np.array([\n",
        "    [1, -1, 2, -1, -8],\n",
        "    [2, -2, 3, -3, -20],\n",
        "    [1, 1, 1, 0, -2],\n",
        "    [1, -1, 4, 3, 4]\n",
        "    ], dtype=float)\n",
        "\n",
        "solucion=eliminacion_gaussiana(A)\n",
        "print(\"El resultado del sistema de ecuaciones es [x1, x2, x3, x4] =\", solucion)"
      ]
    }
  ]
}