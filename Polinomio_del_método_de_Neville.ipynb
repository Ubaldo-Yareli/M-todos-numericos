{
  "nbformat": 4,
  "nbformat_minor": 0,
  "metadata": {
    "colab": {
      "provenance": [],
      "authorship_tag": "ABX9TyMb+l5HgFYCE5jfpI/ws8Pe",
      "include_colab_link": true
    },
    "kernelspec": {
      "name": "python3",
      "display_name": "Python 3"
    },
    "language_info": {
      "name": "python"
    }
  },
  "cells": [
    {
      "cell_type": "markdown",
      "metadata": {
        "id": "view-in-github",
        "colab_type": "text"
      },
      "source": [
        "<a href=\"https://colab.research.google.com/github/Ubaldo-Yareli/M-todos-numericos/blob/main/Polinomio_del_m%C3%A9todo_de_Neville.ipynb\" target=\"_parent\"><img src=\"https://colab.research.google.com/assets/colab-badge.svg\" alt=\"Open In Colab\"/></a>"
      ]
    },
    {
      "cell_type": "markdown",
      "source": [
        "El método de Neville es un método de interpolación que sirve para encontrar aproximaciones del valor de una función.\n",
        "\n",
        "La tabla quese crea, se utiliza para calcular los polinomios de grados menores a través de ciertos valores ya conocidos, utilizando la fórmula\n",
        "$Q_{i,j}=\\frac{(x-x_{i-j})*Q_{i,j-1}(x)-(x-x_i)Q_{i-1,j-1}}{(x_i-x_{i-j})}$.\n",
        "\n",
        "El último valor que se tiene en la colúmna, es el valor que se toma como la interpolación del número x elegido, que en el ejemplo es el valor de 1.5"
      ],
      "metadata": {
        "id": "G6AKrytUjbQF"
      }
    },
    {
      "cell_type": "code",
      "execution_count": 2,
      "metadata": {
        "colab": {
          "base_uri": "https://localhost:8080/"
        },
        "id": "JeaGnpdXxGX3",
        "outputId": "3456de30-6030-4690-dbc6-bfa62aedffe4"
      },
      "outputs": [
        {
          "output_type": "stream",
          "name": "stdout",
          "text": [
            "Tabla recursiva\n",
            "Q[0,0]=0.7651977    \n",
            "Q[1,0]=0.6200860    Q[1,1]=0.5233449    \n",
            "Q[2,0]=0.4554022    Q[2,1]=0.5102968    Q[2,2]=0.5124715    \n",
            "Q[3,0]=0.2818186    Q[3,1]=0.5132634    Q[3,2]=0.5112857    Q[3,3]=0.5118127    \n",
            "Q[4,0]=0.1103623    Q[4,1]=0.5104270    Q[4,2]=0.5137361    Q[4,3]=0.5118302    Q[4,4]=0.5118200    \n",
            "\n",
            "El valor interpolado en x=1.5 es: 0.5118199942386831\n"
          ]
        }
      ],
      "source": [
        "def polinomio_neville(x, xi, fi):\n",
        "\n",
        "    n=len(xi) #Devuelve los elementos del objeto\n",
        "    Q=[[0.0 for _ in range(n)] for _ in range(n)] #Tabla que se inicializa en 0\n",
        "\n",
        "    for i in range(n): #Primera colúmna de la tabla con f(xi)\n",
        "        Q[i][0]=fi[i]\n",
        "\n",
        "    for i in range(1, n):\n",
        "        for j in range(1, i+1):\n",
        "            Q[i][j]=((x-xi[i-j])*Q[i][j-1]-(x-xi[i])*Q[i-1][j-1])/(xi[i]-xi[i-j]) #Fómula del polinomio de Neville\n",
        "\n",
        "    print(\"Tabla recursiva\")\n",
        "    for i in range(n):\n",
        "        for j in range(i+1):\n",
        "            print(f\"Q[{i},{j}]={Q[i][j]:.7f}\", end=\"    \")\n",
        "        print()\n",
        "\n",
        "    return Q[n-1][n-1] #Valor de P(x)\n",
        "\n",
        "xi=[1.0, 1.3, 1.6, 1.9, 2.2]  #Valores conocidos de X0, X1, X2, X3 X4\n",
        "fxi=[0.7651977, 0.6200860, 0.4554022, 0.2818186, 0.1103623]  # Valores que resultan de evaluar en la función\n",
        "x=1.5  #Interpolación en 1.5\n",
        "\n",
        "resultado=polinomio_neville(x, xi, fxi)\n",
        "print(f\"\\nEl valor interpolado en x={x} es: {resultado}\")"
      ]
    }
  ]
}