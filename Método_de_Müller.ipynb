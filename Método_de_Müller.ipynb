{
  "nbformat": 4,
  "nbformat_minor": 0,
  "metadata": {
    "colab": {
      "provenance": [],
      "authorship_tag": "ABX9TyMonuB2nBIR/wtbZjJVLSl7",
      "include_colab_link": true
    },
    "kernelspec": {
      "name": "python3",
      "display_name": "Python 3"
    },
    "language_info": {
      "name": "python"
    }
  },
  "cells": [
    {
      "cell_type": "markdown",
      "metadata": {
        "id": "view-in-github",
        "colab_type": "text"
      },
      "source": [
        "<a href=\"https://colab.research.google.com/github/Ubaldo-Yareli/M-todos-numericos/blob/main/M%C3%A9todo_de_M%C3%BCller.ipynb\" target=\"_parent\"><img src=\"https://colab.research.google.com/assets/colab-badge.svg\" alt=\"Open In Colab\"/></a>"
      ]
    },
    {
      "cell_type": "code",
      "execution_count": 9,
      "metadata": {
        "id": "6CG0J0lxSmQQ"
      },
      "outputs": [],
      "source": [
        "import math"
      ]
    },
    {
      "cell_type": "code",
      "source": [
        "def f(x):\n",
        "    return x**3+2*x+3 #Polinomio a utilizar"
      ],
      "metadata": {
        "id": "DvUFU090SurZ"
      },
      "execution_count": 10,
      "outputs": []
    },
    {
      "cell_type": "code",
      "source": [
        "def muller (x0, x1, x2, tol=1e-6, max_iter=100):\n",
        "    for i in range(max_iter):\n",
        "        # Evaluación de la función en los puntos x0, x1, x2\n",
        "        f0=f(x0)\n",
        "        f1=f(x1)\n",
        "        f2=f(x2)\n",
        "\n",
        "        #Fórmula para calcular los valores de h1 y h2\n",
        "        h1=x1-x0\n",
        "        h2=x2-x1\n",
        "\n",
        "        #Fórmula para calcuar los valores de delta\n",
        "        del1=(f1-f0)/h1\n",
        "        del2=(f2-f1)/h2\n",
        "\n",
        "        a=(del2-del1)/(h2+h1)\n",
        "        b=a*h2+del2\n",
        "        c=f2\n",
        "\n",
        "        discriminante=b**2-4*a*c\n",
        "\n",
        "        if b>0:\n",
        "            denominador=b+math.sqrt(discriminante)\n",
        "        else:\n",
        "            denominador=b-math.sqrt(discriminante)\n",
        "\n",
        "        #Calcula la próxima aproximación\n",
        "        dxr=-2*c/denominador\n",
        "        x3 = x2 + dxr\n",
        "\n",
        "        print(f\"Iteración {i + 1}:x3={x3}\")\n",
        "\n",
        "        if abs(dxr)<tol:\n",
        "            return x3\n",
        "\n",
        "        x0 = x1\n",
        "        x1 = x2\n",
        "        x2 = x3\n",
        "\n",
        "    raise ValueError(\"El método de Müller no converge después de las iteraciones máximas.\")\n",
        "\n",
        "#Aproximaciones\n",
        "x0 = -1\n",
        "x1 = 0\n",
        "x2 = 1\n",
        "\n",
        "try:\n",
        "    raiz = Müller(x0, x1, x2)\n",
        "    print(f\"La raíz aproximada es:{raiz}\")\n",
        "except ValueError as e:\n",
        "    print(e)\n"
      ],
      "metadata": {
        "colab": {
          "base_uri": "https://localhost:8080/"
        },
        "id": "XCQAPIX5SzR6",
        "outputId": "96b11f38-887b-4b2f-a718-cea6a70d9510"
      },
      "execution_count": 11,
      "outputs": [
        {
          "output_type": "stream",
          "name": "stdout",
          "text": [
            "Iteración 1:x3=-1.0\n",
            "Iteración 2:x3=-1.0\n",
            "La raíz aproximada es:-1.0\n"
          ]
        }
      ]
    },
    {
      "cell_type": "markdown",
      "source": [
        "Se implementa una aproximación cuadrática basada en $3$ puntos iniciales, que en este caso son $x0, x1$ y $x2$, donde una parábola pasará por dichos puntos.\n",
        "$Delta 1$ y $Delta 2$, ayudan para calcular los coeficientes de la parábola, es decir, los valores de $a$, $b$ y $c$, puesto que la parábola está descrita como $P(x)=ax^2+bx+c$.\n",
        "Para calcular las raíces de la parábola, se utiliza la fórmula general y se elige la raíz dependiendo dle signo de $b$ y se toma como aproximación para la raíz del polinomio."
      ],
      "metadata": {
        "id": "iHc5RU1HS-CA"
      }
    }
  ]
}