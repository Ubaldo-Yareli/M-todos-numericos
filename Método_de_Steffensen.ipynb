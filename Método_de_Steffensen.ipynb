{
  "nbformat": 4,
  "nbformat_minor": 0,
  "metadata": {
    "colab": {
      "provenance": [],
      "authorship_tag": "ABX9TyMY6v3xy1qaCd3wjkw8ZG8d",
      "include_colab_link": true
    },
    "kernelspec": {
      "name": "python3",
      "display_name": "Python 3"
    },
    "language_info": {
      "name": "python"
    }
  },
  "cells": [
    {
      "cell_type": "markdown",
      "metadata": {
        "id": "view-in-github",
        "colab_type": "text"
      },
      "source": [
        "<a href=\"https://colab.research.google.com/github/Ubaldo-Yareli/M-todos-numericos/blob/main/M%C3%A9todo_de_Steffensen.ipynb\" target=\"_parent\"><img src=\"https://colab.research.google.com/assets/colab-badge.svg\" alt=\"Open In Colab\"/></a>"
      ]
    },
    {
      "cell_type": "code",
      "execution_count": 1,
      "metadata": {
        "id": "IVTOxbZAk3XG"
      },
      "outputs": [],
      "source": [
        "import sympy as sp\n",
        "import numpy as np"
      ]
    },
    {
      "cell_type": "markdown",
      "source": [
        "Al utilizar el método de Steffenson, la función original $cos(x)-2x+3=0$, es transformada despejando una $x$ y llegando a la función $f(x)=(cos(x)+3)/2$, posteriormente, se evalúan en los valores $1$ y $2$, para saber si existe algún punto donde la función se hace  $0$ y así es."
      ],
      "metadata": {
        "id": "JPztcek4Wvo9"
      }
    },
    {
      "cell_type": "code",
      "source": [
        "def funcion(x):\n",
        "    return (np.cos(x)+3)/2 #Función modificada"
      ],
      "metadata": {
        "id": "oYjSEMAUm6IU"
      },
      "execution_count": 2,
      "outputs": []
    },
    {
      "cell_type": "code",
      "source": [
        "def metodo_steffensen(g, Tol, N0):\n",
        "    print(\"#iter \\t\\t Xn \\t\\t\\t Xn+1 (truncado) \\t Error\") #Imprimir inicio de la tabla\n",
        "    xn=1 #Primer valor de xn\n",
        "    (xn1)=g(xn)\n",
        "    iter=1\n",
        "    error=None\n",
        "\n",
        "    while iter<=N0:\n",
        "        xn2=g(xn1)\n",
        "        p=xn-((xn1-xn)**2)/((xn2)-(2*xn1)+xn) #Valor de P con 3 iteraciones\n",
        "\n",
        "        if iter>1:\n",
        "            error=abs((xn)-(xn1)) #Valor absoluto del error\n",
        "            print(f\"{iter} \\t\\t {xn:.5f} \\t\\t {xn1:.5f} \\t\\t {error:.5f}\")\n",
        "\n",
        "        else:\n",
        "            print(f\"{iter} \\t\\t {xn:.5f} \\t\\t {xn1:.5f} \\t\\t {'-'}\")\n",
        "\n",
        "        if error is not None and error<tol:\n",
        "            print(f\"El resultado final es de: {xn:.5f} con un error de: {error:.5f}\")\n",
        "            print(f\"El valor de p es: {p:.5f}\")\n",
        "            return p, iter\n",
        "\n",
        "        xn=xn1\n",
        "        (xn1)=xn2\n",
        "        iter+=1\n",
        "    return None, N0\n",
        "\n",
        "tol=1e-4 #Tolerancia de decimales\n",
        "N0=100 #Hasta 100 iteraciones\n",
        "resultado, iteraciones=metodo_steffensen(funcion, tol, N0)"
      ],
      "metadata": {
        "colab": {
          "base_uri": "https://localhost:8080/"
        },
        "id": "Lr2lVxiZn3vi",
        "outputId": "21a4b083-ee59-4207-b00d-ab856bebd4da"
      },
      "execution_count": 3,
      "outputs": [
        {
          "output_type": "stream",
          "name": "stdout",
          "text": [
            "#iter \t\t Xn \t\t\t Xn+1 (truncado) \t Error\n",
            "1 \t\t 1.00000 \t\t 1.77015 \t\t -\n",
            "2 \t\t 1.77015 \t\t 1.40098 \t\t 0.36917\n",
            "3 \t\t 1.40098 \t\t 1.58450 \t\t 0.18352\n",
            "4 \t\t 1.58450 \t\t 1.49315 \t\t 0.09135\n",
            "5 \t\t 1.49315 \t\t 1.53878 \t\t 0.04564\n",
            "6 \t\t 1.53878 \t\t 1.51600 \t\t 0.02278\n",
            "7 \t\t 1.51600 \t\t 1.52738 \t\t 0.01138\n",
            "8 \t\t 1.52738 \t\t 1.52170 \t\t 0.00568\n",
            "9 \t\t 1.52170 \t\t 1.52454 \t\t 0.00284\n",
            "10 \t\t 1.52454 \t\t 1.52312 \t\t 0.00142\n",
            "11 \t\t 1.52312 \t\t 1.52383 \t\t 0.00071\n",
            "12 \t\t 1.52383 \t\t 1.52348 \t\t 0.00035\n",
            "13 \t\t 1.52348 \t\t 1.52365 \t\t 0.00018\n",
            "14 \t\t 1.52365 \t\t 1.52356 \t\t 0.00009\n",
            "El resultado final es de: 1.52365 con un error de: 0.00009\n",
            "El valor de p es: 1.52359\n"
          ]
        }
      ]
    },
    {
      "cell_type": "markdown",
      "source": [
        "$Xn$, comienza con el valor de $1$, y se evalúa en la función previamente mencionada, el resultado obetnido es $Xn+1$"
      ],
      "metadata": {
        "id": "0VH_NCBkglBU"
      }
    },
    {
      "cell_type": "markdown",
      "source": [
        "En la tabla, el valor de $Xn+1$ pasa a ser el nuevo valor de $Xn$ y se evalúa nuevamente en la función.\n",
        "\n",
        "Se calcula el valor de $P$ con los valores de $3$ en $3$, es decir iteración $1$, $2$ y $3$, posteriormente $2$, $3$ y $4$ y así sucesivamente."
      ],
      "metadata": {
        "id": "ZFxit6qxa9xk"
      }
    }
  ]
}