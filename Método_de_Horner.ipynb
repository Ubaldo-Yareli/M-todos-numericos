{
  "nbformat": 4,
  "nbformat_minor": 0,
  "metadata": {
    "colab": {
      "provenance": [],
      "authorship_tag": "ABX9TyP3UjcLY4U8C4U72Su9FEMV",
      "include_colab_link": true
    },
    "kernelspec": {
      "name": "python3",
      "display_name": "Python 3"
    },
    "language_info": {
      "name": "python"
    }
  },
  "cells": [
    {
      "cell_type": "markdown",
      "metadata": {
        "id": "view-in-github",
        "colab_type": "text"
      },
      "source": [
        "<a href=\"https://colab.research.google.com/github/Ubaldo-Yareli/M-todos-numericos/blob/main/M%C3%A9todo_de_Horner.ipynb\" target=\"_parent\"><img src=\"https://colab.research.google.com/assets/colab-badge.svg\" alt=\"Open In Colab\"/></a>"
      ]
    },
    {
      "cell_type": "markdown",
      "source": [
        "Para el método de Horner (división sintética), se realizan operaciones iteradas.\n",
        "Se comienza realizando la division sintética del polinomio en algún número que esté dentro de un intervalo donde se sepa que existe una raíz, en este caso, se toma $X0=2$ en el polinomio $2x^4-3x^2+3x-4$.\n",
        "Si el residuo es $=0$, se términa el método, ya que significa que dicho número, es rapiz del polinomio; si el residuo $\\neq0$, se sigue aplicando el método, volviendo a utilizar el mismo número (en este ejemplo $2$).\n"
      ],
      "metadata": {
        "id": "VYz4jmeEKmIe"
      }
    },
    {
      "cell_type": "code",
      "execution_count": 2,
      "metadata": {
        "id": "6HyjZWxYI8iq"
      },
      "outputs": [],
      "source": [
        "def metodo_horner(coeffs, x):\n",
        "    n=len(coeffs) #len() devuelve el número de valores\n",
        "    p=coeffs[0]\n",
        "    dp=0\n",
        "    for i in range(1, n):\n",
        "        dp=dp*x+p  #Derivada del polinomio\n",
        "        p=p*x+coeffs[i]  #Evaluación del polinomio\n",
        "    return p, dp"
      ]
    },
    {
      "cell_type": "markdown",
      "source": [
        "Una vez realizado el segundo paso, se utiliza la fórmula $Xn+1=Xn-(f(xn)-f'(xn))$\n",
        "Con $xn=2$, $f(xn)$=La primera evaluación del método de Horner y $f'(xn)$ la segunda evaluación de dicho método."
      ],
      "metadata": {
        "id": "M2GjekENNg_C"
      }
    },
    {
      "cell_type": "code",
      "source": [
        "def metodo_newton(x0, coeffs, tol=1e-4, iteraciones=100): #Hasta 100 iteraciones\n",
        "    for _ in range(iteraciones):\n",
        "        p, dp=metodo_horner(coeffs, x0)\n",
        "        if abs(p)<tol: #abs=Valor absoluto\n",
        "            return x0\n",
        "        x0=x0-(p/dp)  #Fórmula\n",
        "    return x0"
      ],
      "metadata": {
        "id": "2Z33W5lvJJRw"
      },
      "execution_count": 3,
      "outputs": []
    },
    {
      "cell_type": "markdown",
      "source": [
        "Los coeficientes se escriben iniciando con el de mayor grado, descendiendo hasta llegar al término independiende (escribiendo también los coeficientes iguales a $0$."
      ],
      "metadata": {
        "id": "nBJPAiFiOcPi"
      }
    },
    {
      "cell_type": "code",
      "source": [
        "coeffs=[2, 0, -3, 3, -4] #Coeficientes del polinomio\n",
        "x0=-2 #Valor inicial\n",
        "raiz=metodo_newton(x0, coeffs)\n",
        "print(f\"La raíz aproximada es: {raiz}\")"
      ],
      "metadata": {
        "colab": {
          "base_uri": "https://localhost:8080/"
        },
        "id": "80MNcpwIJxJ_",
        "outputId": "a183884c-5d7e-4744-c7d1-d4e5c0637b49"
      },
      "execution_count": 4,
      "outputs": [
        {
          "output_type": "stream",
          "name": "stdout",
          "text": [
            "La raíz aproximada es: -1.7389562566790493\n"
          ]
        }
      ]
    }
  ]
}