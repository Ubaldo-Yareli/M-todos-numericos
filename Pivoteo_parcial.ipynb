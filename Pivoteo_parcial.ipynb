{
  "nbformat": 4,
  "nbformat_minor": 0,
  "metadata": {
    "colab": {
      "provenance": [],
      "authorship_tag": "ABX9TyMV78o8dfdGvKKP1kxHRiN2",
      "include_colab_link": true
    },
    "kernelspec": {
      "name": "python3",
      "display_name": "Python 3"
    },
    "language_info": {
      "name": "python"
    }
  },
  "cells": [
    {
      "cell_type": "markdown",
      "metadata": {
        "id": "view-in-github",
        "colab_type": "text"
      },
      "source": [
        "<a href=\"https://colab.research.google.com/github/Ubaldo-Yareli/M-todos-numericos/blob/main/Pivoteo_parcial.ipynb\" target=\"_parent\"><img src=\"https://colab.research.google.com/assets/colab-badge.svg\" alt=\"Open In Colab\"/></a>"
      ]
    },
    {
      "cell_type": "markdown",
      "source": [
        "El método de $\\mbox{pivoteo parcial}$ se puede utilizar cuando el primer pivote es un número distinto de $1$ y resulta más útil cuando el pivote es un número racional.\n",
        "\n",
        "Se comienza encontrando el máximo que existe (en valor absoluto) entre los números de la primer colúmna, una vez encontrado, dicho número tiene que estar en la posición $a_{1,1}$.\n",
        "\n",
        "Posteriormente, se busca el valor de las $\"m\"$, las cuales se encuentran al dividir $\\frac{a_{i,j}}{a_{1,1}}$ (los $a_{i,j}$ son de la primera colúmna), los cuales serán multiplicados por los valores de la fila 1 y una vez hecha la multiplicación, se restarán a los valores de la segunda fila y así sucesivamente hasta hacer ceros todos los números que estén por debajo del primer pivote.\n",
        "\n",
        "Se repite el proceso para el pivote $a_{2,2}$ y convertir a ceros los números debajo de él.\n",
        "\n",
        "Una vez hecho, se realiza el proceso de $\\mbox{eliminación Gaussiana con sustitución hacia atrás}$"
      ],
      "metadata": {
        "id": "uuaOJdsmko50"
      }
    },
    {
      "cell_type": "code",
      "execution_count": 3,
      "metadata": {
        "colab": {
          "base_uri": "https://localhost:8080/"
        },
        "id": "kcVpcrFbTxmU",
        "outputId": "2b0cd0df-973a-4454-82d8-0c805187f6f7"
      },
      "outputs": [
        {
          "output_type": "stream",
          "name": "stdout",
          "text": [
            "El resultado del sistema de ecuaciones es [x1, x2] = [10.  1.]\n"
          ]
        }
      ],
      "source": [
        "import numpy as np\n",
        "\n",
        "def pivoteo_parcial(A, a):\n",
        "    n=len(A)\n",
        "    # Construimos la matriz aumentada\n",
        "    A=np.hstack((A, a.reshape(-1, 1)))\n",
        "\n",
        "    for i in range(n):\n",
        "        max_row=i+np.argmax(np.abs(A[i:, i])) #Encontrar el pivote de más grande\n",
        "\n",
        "        if A[max_row, i]==0: #El pivote debe ser distinto de cero\n",
        "            print(\"No existe solución única.\")\n",
        "            return None\n",
        "\n",
        "        #Cambiar filas para que el número más grande esté en el pivote (si es necesario)\n",
        "        if max_row !=i:\n",
        "            A[[i, max_row]]=A[[max_row, i]]\n",
        "\n",
        "        for j in range(i+1, n):\n",
        "            m=A[j, i]/A[i, i]\n",
        "            A[j, i:]-=m*A[i, i:]\n",
        "\n",
        "    #Se realiza el proceso de sustitución hacia atrás\n",
        "    x=np.zeros(n)\n",
        "    for i in range(n - 1, -1, -1):\n",
        "        x[i]=(A[i, -1]-np.dot(A[i, i+1:n], x[i+1:]))/A[i, i]\n",
        "    return x\n",
        "\n",
        "A = np.array([[0.003000, 59.14], #Matriz de coeficientes\n",
        "              [5.291, -6.130,]])\n",
        "\n",
        "\n",
        "a=np.array([59.17, 46.78]) #Terminos indepedientes del sistema de ecuaciones\n",
        "\n",
        "solucion=pivoteo_parcial(A, a)\n",
        "if solucion is not None:\n",
        "    print(\"El resultado del sistema de ecuaciones es [x1, x2] =\", solucion)\n",
        "else:\n",
        "     print(\"El sistema tiene infinidad de soluciones.\")\n"
      ]
    }
  ]
}