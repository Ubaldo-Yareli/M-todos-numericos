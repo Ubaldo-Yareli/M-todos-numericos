{
  "nbformat": 4,
  "nbformat_minor": 0,
  "metadata": {
    "colab": {
      "provenance": [],
      "authorship_tag": "ABX9TyM4gmf8a1QNn9qKgyXfAnQA",
      "include_colab_link": true
    },
    "kernelspec": {
      "name": "python3",
      "display_name": "Python 3"
    },
    "language_info": {
      "name": "python"
    }
  },
  "cells": [
    {
      "cell_type": "markdown",
      "metadata": {
        "id": "view-in-github",
        "colab_type": "text"
      },
      "source": [
        "<a href=\"https://colab.research.google.com/github/Ubaldo-Yareli/M-todos-numericos/blob/main/Coeficientes_binomiales_con_valores_no_enteros.ipynb\" target=\"_parent\"><img src=\"https://colab.research.google.com/assets/colab-badge.svg\" alt=\"Open In Colab\"/></a>"
      ]
    },
    {
      "cell_type": "code",
      "execution_count": 2,
      "metadata": {
        "id": "a6_w5zanx3wd"
      },
      "outputs": [],
      "source": [
        "import numpy as np\n",
        "import matplotlib.pyplot as plt"
      ]
    },
    {
      "cell_type": "markdown",
      "source": [
        "Dada una tabla de datos con dos colúmnas (inicialmente), donde la primera colúmna contiene los valores de $x$ y en la otra los datos $(y=F(x))$ de evaluar dichos puntos en la función."
      ],
      "metadata": {
        "id": "vUPUFQQhYOsb"
      }
    },
    {
      "cell_type": "code",
      "source": [
        "#Datos de la tabla\n",
        "X=np.array([0, 1, 2, 3, 4, 5]) #Valores de \"x\"\n",
        "F=np.array([-5, 1, 9, 25, 55, 105]) #Valores de y=F(x)\n"
      ],
      "metadata": {
        "id": "7zSxexJax-U-"
      },
      "execution_count": 3,
      "outputs": []
    },
    {
      "cell_type": "code",
      "source": [
        "#Nos dice de qué tipo es, en este caso, array\n",
        "F"
      ],
      "metadata": {
        "colab": {
          "base_uri": "https://localhost:8080/"
        },
        "id": "WLi1LTLJ0GiA",
        "outputId": "27b9dc2f-b323-4098-a406-52630794a249"
      },
      "execution_count": 4,
      "outputs": [
        {
          "output_type": "execute_result",
          "data": {
            "text/plain": [
              "array([ -5,   1,   9,  25,  55, 105])"
            ]
          },
          "metadata": {},
          "execution_count": 4
        }
      ]
    },
    {
      "cell_type": "markdown",
      "source": [
        "Se crea una gráfica con los valores de la tabla mencionada anteriormente, donde el eje de las abscisas corresponde a los valores de $\"x\"$ y el ejer de las ordenadas a los valores de $\"y=F(x)\"$"
      ],
      "metadata": {
        "id": "j9hXiFPzayDH"
      }
    },
    {
      "cell_type": "code",
      "source": [
        "#Graficar los datos originales de la tabla\n",
        "plt.scatter(X,F, color=\"green\", marker='x')\n",
        "plt.title(\"Gráfica de los datos\") #Título de la gráfica\n",
        "plt.xlabel(\"Eje x\") #Etiqueta del eje \"x\"\n",
        "plt.ylabel(\"Eje y\") #Etiqueta del eje \"y\"\n",
        "plt.grid(color=\"black\", linestyle=\"--\")\n",
        "plt.show"
      ],
      "metadata": {
        "colab": {
          "base_uri": "https://localhost:8080/",
          "height": 642
        },
        "id": "CBNBJVd-1B4n",
        "outputId": "f24abdab-6aff-40cc-d356-bf5a80629b62",
        "collapsed": true
      },
      "execution_count": 17,
      "outputs": [
        {
          "output_type": "execute_result",
          "data": {
            "text/plain": [
              "<function matplotlib.pyplot.show(close=None, block=None)>"
            ],
            "text/html": [
              "<div style=\"max-width:800px; border: 1px solid var(--colab-border-color);\"><style>\n",
              "      pre.function-repr-contents {\n",
              "        overflow-x: auto;\n",
              "        padding: 8px 12px;\n",
              "        max-height: 500px;\n",
              "      }\n",
              "\n",
              "      pre.function-repr-contents.function-repr-contents-collapsed {\n",
              "        cursor: pointer;\n",
              "        max-height: 100px;\n",
              "      }\n",
              "    </style>\n",
              "    <pre style=\"white-space: initial; background:\n",
              "         var(--colab-secondary-surface-color); padding: 8px 12px;\n",
              "         border-bottom: 1px solid var(--colab-border-color);\"><b>matplotlib.pyplot.show</b><br/>def show(*args, **kwargs)</pre><pre class=\"function-repr-contents function-repr-contents-collapsed\" style=\"\"><a class=\"filepath\" style=\"display:none\" href=\"#\">/usr/local/lib/python3.10/dist-packages/matplotlib/pyplot.py</a>Display all open figures.\n",
              "\n",
              "Parameters\n",
              "----------\n",
              "block : bool, optional\n",
              "    Whether to wait for all figures to be closed before returning.\n",
              "\n",
              "    If `True` block and run the GUI main loop until all figure windows\n",
              "    are closed.\n",
              "\n",
              "    If `False` ensure that all figure windows are displayed and return\n",
              "    immediately.  In this case, you are responsible for ensuring\n",
              "    that the event loop is running to have responsive figures.\n",
              "\n",
              "    Defaults to True in non-interactive mode and to False in interactive\n",
              "    mode (see `.pyplot.isinteractive`).\n",
              "\n",
              "See Also\n",
              "--------\n",
              "ion : Enable interactive mode, which shows / updates the figure after\n",
              "      every plotting command, so that calling ``show()`` is not necessary.\n",
              "ioff : Disable interactive mode.\n",
              "savefig : Save the figure to an image file instead of showing it on screen.\n",
              "\n",
              "Notes\n",
              "-----\n",
              "**Saving figures to file and showing a window at the same time**\n",
              "\n",
              "If you want an image file as well as a user interface window, use\n",
              "`.pyplot.savefig` before `.pyplot.show`. At the end of (a blocking)\n",
              "``show()`` the figure is closed and thus unregistered from pyplot. Calling\n",
              "`.pyplot.savefig` afterwards would save a new and thus empty figure. This\n",
              "limitation of command order does not apply if the show is non-blocking or\n",
              "if you keep a reference to the figure and use `.Figure.savefig`.\n",
              "\n",
              "**Auto-show in jupyter notebooks**\n",
              "\n",
              "The jupyter backends (activated via ``%matplotlib inline``,\n",
              "``%matplotlib notebook``, or ``%matplotlib widget``), call ``show()`` at\n",
              "the end of every cell by default. Thus, you usually don&#x27;t have to call it\n",
              "explicitly there.</pre>\n",
              "      <script>\n",
              "      if (google.colab.kernel.accessAllowed && google.colab.files && google.colab.files.view) {\n",
              "        for (const element of document.querySelectorAll('.filepath')) {\n",
              "          element.style.display = 'block'\n",
              "          element.onclick = (event) => {\n",
              "            event.preventDefault();\n",
              "            event.stopPropagation();\n",
              "            google.colab.files.view(element.textContent, 482);\n",
              "          };\n",
              "        }\n",
              "      }\n",
              "      for (const element of document.querySelectorAll('.function-repr-contents')) {\n",
              "        element.onclick = (event) => {\n",
              "          event.preventDefault();\n",
              "          event.stopPropagation();\n",
              "          element.classList.toggle('function-repr-contents-collapsed');\n",
              "        };\n",
              "      }\n",
              "      </script>\n",
              "      </div>"
            ]
          },
          "metadata": {},
          "execution_count": 17
        },
        {
          "output_type": "display_data",
          "data": {
            "text/plain": [
              "<Figure size 640x480 with 1 Axes>"
            ],
            "image/png": "[encoded data removed]"
          },
          "metadata": {}
        }
      ]
    },
    {
      "cell_type": "markdown",
      "source": [
        "Se define el polinomio con el que se estará trabajando y posteriormente se crea la gráfica de dicho polinomio, donde también se incluyen los valores de la tabla."
      ],
      "metadata": {
        "id": "gsIBQx6Hb0Rj"
      }
    },
    {
      "cell_type": "code",
      "source": [
        "def f(x):\n",
        "  return x**3-2*x**2+7*x-5\n",
        "\n",
        "x1=np.linspace(0, 5, 100)"
      ],
      "metadata": {
        "id": "eYeMzm4Elbu5"
      },
      "execution_count": 6,
      "outputs": []
    },
    {
      "cell_type": "code",
      "source": [
        "#Gráfica del polinomio\n",
        "plt.plot (x1, f(x1))\n",
        "plt.scatter(X,F, color=\"green\", marker='x')\n",
        "plt.title(\"Gráfica del polinomio\")\n",
        "plt.xlabel(\"Eje x\")\n",
        "plt.ylabel(\"Eje y\")\n",
        "plt.grid(color=\"black\", linestyle=\"--\")\n",
        "plt.show()"
      ],
      "metadata": {
        "colab": {
          "base_uri": "https://localhost:8080/",
          "height": 472
        },
        "id": "TcIWQrmIlSey",
        "outputId": "db4944f9-e4d4-4482-ee84-a69413267935"
      },
      "execution_count": 18,
      "outputs": [
        {
          "output_type": "display_data",
          "data": {
            "text/plain": [
              "<Figure size 640x480 with 1 Axes>"
            ],
            "image/png": "[encoded data removed]"
          },
          "metadata": {}
        }
      ]
    },
    {
      "cell_type": "code",
      "source": [
        "#Construcción del algoritmo\n",
        "#Tabla de primeras diferencias\n",
        "dif=F[1]-F[0]\n",
        "print(dif)"
      ],
      "metadata": {
        "colab": {
          "base_uri": "https://localhost:8080/"
        },
        "id": "HehznldJ6-tp",
        "outputId": "c0d124e4-e2f9-4122-8b2f-ad9703ddde7f"
      },
      "execution_count": 8,
      "outputs": [
        {
          "output_type": "stream",
          "name": "stdout",
          "text": [
            "6\n"
          ]
        }
      ]
    },
    {
      "cell_type": "markdown",
      "source": [
        "Al tener la tabla inicial con dos colúmnas, se crea un tercera que se denomina $Δy$ o $Δ^1y$ la cual, es hecha con las diferencias que existen entre los valores de la colúmna $y=F(x)$."
      ],
      "metadata": {
        "id": "6_2aWGOQcHE9"
      }
    },
    {
      "cell_type": "code",
      "source": [
        "#Primeras diferencias\n",
        "delta1=np.array([])\n",
        "for i in range (len(F)-1):\n",
        "  dif=F[i+1]-F[i]\n",
        "  print(dif)\n",
        "  delta1=np.append(delta1, dif)\n",
        "print(delta1)"
      ],
      "metadata": {
        "colab": {
          "base_uri": "https://localhost:8080/"
        },
        "id": "pZ4rLpD872aL",
        "outputId": "0511fcac-71b2-4f64-82b8-2d303904a037"
      },
      "execution_count": 9,
      "outputs": [
        {
          "output_type": "stream",
          "name": "stdout",
          "text": [
            "6\n",
            "8\n",
            "16\n",
            "30\n",
            "50\n",
            "[ 6.  8. 16. 30. 50.]\n"
          ]
        }
      ]
    },
    {
      "cell_type": "markdown",
      "source": [
        "Posteiormente se encuentra $Δ^2y$, son las diferencias entre los valores de $Δ^1y$"
      ],
      "metadata": {
        "id": "u7VgwvuVeTlj"
      }
    },
    {
      "cell_type": "code",
      "source": [
        "#Segundas diferencias\n",
        "delta2=np.array([])\n",
        "for i in range (len(delta1)-1):\n",
        "  dif=delta1[i+1]-delta1[i]\n",
        "  print(dif)\n",
        "  delta2=np.append(delta2, dif)\n",
        "print(delta2)"
      ],
      "metadata": {
        "colab": {
          "base_uri": "https://localhost:8080/"
        },
        "id": "VigPRxuT9K5M",
        "outputId": "25dba7b5-996d-414f-d5e2-fc47ff0d4cf1"
      },
      "execution_count": 10,
      "outputs": [
        {
          "output_type": "stream",
          "name": "stdout",
          "text": [
            "2.0\n",
            "8.0\n",
            "14.0\n",
            "20.0\n",
            "[ 2.  8. 14. 20.]\n"
          ]
        }
      ]
    },
    {
      "cell_type": "markdown",
      "source": [
        "Se reallizan los mismos pasos hasta que las diferencias sean iguales, en este caso, en $Δ^3y$ se tienen todas las diferencias con el número 6, por lo que se concluye que el polinomio es de grado $3$."
      ],
      "metadata": {
        "id": "E6rObJxtemGV"
      }
    },
    {
      "cell_type": "code",
      "source": [
        "#Terceras diferencias\n",
        "delta3=np.array([])\n",
        "for i in range (len(delta2)-1):\n",
        "  dif=delta2[i+1]-delta2[i]\n",
        "  print(dif)\n",
        "  delta3=np.append(delta3, dif)\n",
        "print(delta3)"
      ],
      "metadata": {
        "colab": {
          "base_uri": "https://localhost:8080/"
        },
        "id": "zTrMIAWM9f6K",
        "outputId": "f301864f-2ff9-4ca8-c651-f36768ff053d"
      },
      "execution_count": 11,
      "outputs": [
        {
          "output_type": "stream",
          "name": "stdout",
          "text": [
            "6.0\n",
            "6.0\n",
            "6.0\n",
            "[6. 6. 6.]\n"
          ]
        }
      ]
    },
    {
      "cell_type": "markdown",
      "source": [
        "$Δ^4y$ es una comprobación, donde las diferencias (en este ejemplo) ya son $0$."
      ],
      "metadata": {
        "id": "8lY-XoCie-pL"
      }
    },
    {
      "cell_type": "code",
      "source": [
        "#Cuartas diferencias\n",
        "delta4=np.array([])\n",
        "for i in range (len(delta3)-1):\n",
        "  dif=delta3[i+1]-delta3[i]\n",
        "  print(dif)\n",
        "  delta4=np.append(delta4, dif)\n",
        "print(delta4)\n"
      ],
      "metadata": {
        "colab": {
          "base_uri": "https://localhost:8080/"
        },
        "id": "2L6BMQCH-RHx",
        "outputId": "a797f77c-e8c1-4c84-aca0-1728ccd2f8b7"
      },
      "execution_count": 12,
      "outputs": [
        {
          "output_type": "stream",
          "name": "stdout",
          "text": [
            "0.0\n",
            "0.0\n",
            "[0. 0.]\n"
          ]
        }
      ]
    },
    {
      "cell_type": "markdown",
      "source": [
        "Se calculan los coeficientes binomiales, donde se necesitan los valores de:\n",
        "$h=$Distancia e los valores de la colúmna $x$ de la tabla.\n",
        "\n",
        "$Xk=$El valor del que se quiere encontrar $y=F(x)$\n",
        "\n",
        "$X0=$El valor menor más cercano a $xk$\n",
        "\n",
        "Con dichos valores, se puede encontrar el valor de $K$, con la fórmula $K=\\frac{(Xk-X0)}{h}$, valor que se utilizará para encontrar los coeficientes binomiales.\n",
        "\n",
        "Los coeficientes binomiales se encuentran con $\\binom{k}{j}=\\frac{(k)(k-1)(k-2)...(k-(j+1))}{j!}$, con $j$ iniciando en 1."
      ],
      "metadata": {
        "id": "D-Tz4YjZfJTi"
      }
    },
    {
      "cell_type": "code",
      "source": [
        "#Cálculo de coeficientes binomiales\n",
        "import scipy.special as sp\n",
        "\n",
        "#Diferencias calculadas anteriormente\n",
        "delta1 = np.diff(F)\n",
        "delta2 = np.diff(delta1)\n",
        "delta3 = np.diff(delta2)\n",
        "delta4 = np.diff(delta3)\n",
        "\n",
        "xk=1.5  #El punto donde se evaluará la función\n",
        "x0=X[0]\n",
        "\n",
        "#Calcular los valores de h y k\n",
        "h=X[1]-X[0]  #Si los puntos tienen diferencias constantes\n",
        "k=(xk-x0)/h\n",
        "\n",
        "# Cálculo de f(xk)\n",
        "f_xk=F[0] #Primer término f(x0)\n",
        "term=1\n",
        "\n",
        "#Iteración para sumar los términos\n",
        "for n in range(1, len(F)):\n",
        "    term*=(k-(n-1))\n",
        "    coef_binomial = term / sp.factorial(n)  #El factorial de n\n",
        "\n",
        "    if n==1:\n",
        "        f_xk+=coef_binomial*delta1[0]\n",
        "    elif n==2:\n",
        "        f_xk+=coef_binomial*delta2[0]\n",
        "    elif n==3:\n",
        "        f_xk+=coef_binomial*delta3[0]\n",
        "    elif n==4:\n",
        "        f_xk += coef_binomial * delta4[0]\n",
        "\n",
        "#Imprime el resultado\n",
        "print(f\"El valor de f({xk}) es: {f_xk}\")"
      ],
      "metadata": {
        "id": "I-_xgpV1AxEd",
        "colab": {
          "base_uri": "https://localhost:8080/"
        },
        "outputId": "a106bd7a-5213-499f-a52a-4fa2fe3d178b"
      },
      "execution_count": 16,
      "outputs": [
        {
          "output_type": "stream",
          "name": "stdout",
          "text": [
            "El valor de f(1.5) es aproximadamente: 4.375\n"
          ]
        }
      ]
    }
  ]
}