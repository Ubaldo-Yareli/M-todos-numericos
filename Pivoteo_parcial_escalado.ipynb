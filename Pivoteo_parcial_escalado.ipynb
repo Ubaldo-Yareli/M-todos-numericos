{
  "nbformat": 4,
  "nbformat_minor": 0,
  "metadata": {
    "colab": {
      "provenance": [],
      "authorship_tag": "ABX9TyNzSe2m/TAQncOMs7fj0g0V",
      "include_colab_link": true
    },
    "kernelspec": {
      "name": "python3",
      "display_name": "Python 3"
    },
    "language_info": {
      "name": "python"
    }
  },
  "cells": [
    {
      "cell_type": "markdown",
      "metadata": {
        "id": "view-in-github",
        "colab_type": "text"
      },
      "source": [
        "<a href=\"https://colab.research.google.com/github/Ubaldo-Yareli/M-todos-numericos/blob/main/Pivoteo_parcial_escalado.ipynb\" target=\"_parent\"><img src=\"https://colab.research.google.com/assets/colab-badge.svg\" alt=\"Open In Colab\"/></a>"
      ]
    },
    {
      "cell_type": "markdown",
      "source": [
        "Para utilizar el $\\mbox{\"Pivoteo parcial escalonado\"}$, primero se deben encontrar los valores de las distintas $\"s\"$, los cuales son el número máximo (en valor absoluto) de los valores de cada fila (sin tomar en cuenta los términos independientes); posteriormente, se toma el valor absoluto de $a_{ij}$ y se divide entre los $\"s\"$, teniendo la fórmula $\\frac{a_{1,j}}{s_{j}}$.\n",
        "\n",
        "Cuando ya se tienen los valores calculados con la fórmula, se toma el máximo de ellos y la fila a la que le corresponda, será la nueva fila $1$ (si ya era la primera fila, se deja igual la matriz); se hacen ceros debajo de la primer entrada pivote con el método de  $\\mbox{eliminación Gaussiana con sustitución hacia atrás}$ y se realizan todos los pasos anteriores nuevamente."
      ],
      "metadata": {
        "id": "NClzLNEY0KIw"
      }
    },
    {
      "cell_type": "code",
      "execution_count": null,
      "metadata": {
        "colab": {
          "base_uri": "https://localhost:8080/"
        },
        "id": "tUF6bb-w48C9",
        "outputId": "bbdb080f-c6f5-41d9-eaad-ceba81b0cdec"
      },
      "outputs": [
        {
          "output_type": "stream",
          "name": "stdout",
          "text": [
            "El resultado del sistema de ecuaciones es [x1, x2, x3] = [-0.42800441  0.42690323  5.11438861]\n"
          ]
        }
      ],
      "source": [
        "import numpy as np\n",
        "def pivoteo_parcial_escalonado(A):\n",
        "    n=len(A) #A es la matriz aumentada\n",
        "\n",
        "    # Paso 1: Escalamiento inicial\n",
        "    s=np.max(np.abs(A), axis=1)  #El maximo de los valores absolutos de las filas\n",
        "    if np.any(s==0):\n",
        "        raise ValueError(\"No hay solución única al sistema\")\n",
        "\n",
        "    # Inicializar NROW\n",
        "    nrow=np.arange(n)\n",
        "\n",
        "    for i in range(n-1):\n",
        "        ratios=np.abs(A[nrow[i:], i])/s[nrow[i:]] #Formula para encontrar el valor más alto que estará em la primera entrada\n",
        "\n",
        "        for j in range(i+1, n): #Se implementa la eliminación Gaussiana\n",
        "            m = A[nrow[j], i]/A[nrow[i], i]\n",
        "            A[nrow[j], i:]-=m*A[nrow[i], i:]\n",
        "\n",
        "    x=np.zeros(n)\n",
        "    for i in range(n-1, -1, -1):\n",
        "        x[i]=(A[nrow[i], -1]-np.dot(A[nrow[i], i + 1:n], x[i + 1:n]))/A[nrow[i], i]\n",
        "    return x\n",
        "\n",
        "A=np.array([[2.11, -4.21, 0.921, 2.01], #Matriz aumentada\n",
        "            [4.01, 10.2, -1.12, -3.09],\n",
        "            [1.09, 0.987, 0.832, 4.21]])\n",
        "\n",
        "try:\n",
        "    solucion=pivoteo_parcial_escalonado(A)\n",
        "    print(\"El resultado del sistema de ecuaciones es [x1, x2, x3] =\", solucion)\n",
        "except ValueError as e:\n",
        "    print(e)\n",
        "\n"
      ]
    }
  ]
}