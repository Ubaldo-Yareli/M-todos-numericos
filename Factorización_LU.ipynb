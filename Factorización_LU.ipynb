{
  "nbformat": 4,
  "nbformat_minor": 0,
  "metadata": {
    "colab": {
      "provenance": [],
      "authorship_tag": "ABX9TyNgiAd0hlJrquQIUlg4/sYT",
      "include_colab_link": true
    },
    "kernelspec": {
      "name": "python3",
      "display_name": "Python 3"
    },
    "language_info": {
      "name": "python"
    }
  },
  "cells": [
    {
      "cell_type": "markdown",
      "metadata": {
        "id": "view-in-github",
        "colab_type": "text"
      },
      "source": [
        "<a href=\"https://colab.research.google.com/github/Ubaldo-Yareli/M-todos-numericos/blob/main/Factorizaci%C3%B3n_LU.ipynb\" target=\"_parent\"><img src=\"https://colab.research.google.com/assets/colab-badge.svg\" alt=\"Open In Colab\"/></a>"
      ]
    },
    {
      "cell_type": "markdown",
      "source": [
        "El proceso de factorización $LU$, comienza con una matriz $\\mbox{n x n}$, es decir, una mtriz cuadrada, a la cual, se le realiza el proceso de $\\mbox{eliminación Gaussiana con sustitución hacia atrás}$, con la diferencia de que no se pueden realizar cambios de signos o de filas. La matriz resultante debe ser una matriz diagonal superior y es la que denominaremosn como $U$.\n",
        "\n",
        "Una vez que se tiene la matriz diagonal superior (con ceros debabajo de cada pivote), la matriz $L$ será una matriz donde la diagonal será de unos con ceros arriba de ellos (es decir, una matriz diagonal inferior) y debajo de los unos se pondrán los coeficientes en el orden en el que se utilizaron al realizar las operaciones elementales (es por eso la importancia de no realizar cambios de signos ni de filas), si ya no se tienen coeficientes y aún hay lugares sin números, se rellenan con ceros.\n",
        "\n",
        "Para comprobar si $L$ y $U$ son correctas, se puede realizar la multiplicación $LU$ y debe dar como resultado la matriz original $A$.\n",
        "\n"
      ],
      "metadata": {
        "id": "kgM8GcnmIbhZ"
      }
    },
    {
      "cell_type": "code",
      "execution_count": 10,
      "metadata": {
        "colab": {
          "base_uri": "https://localhost:8080/"
        },
        "id": "FT3-nGgurXxY",
        "outputId": "4b58a91a-b71f-40ef-eccf-02c0e43347f2"
      },
      "outputs": [
        {
          "output_type": "stream",
          "name": "stdout",
          "text": [
            "La matriz L es:\n",
            "[[ 1.  0.  0.  0.]\n",
            " [ 2.  1.  0.  0.]\n",
            " [ 3.  4.  1.  0.]\n",
            " [-1. -3.  0.  1.]]\n",
            "\n",
            "La matriz U es:\n",
            "[[  1.   1.   0.   3.]\n",
            " [  0.  -1.  -1.  -5.]\n",
            " [  0.   0.   3.  13.]\n",
            " [  0.   0.   0. -13.]]\n"
          ]
        }
      ],
      "source": [
        "import numpy as np\n",
        "\n",
        "def factorizacion_LU(A):\n",
        "    n=A.shape[0]\n",
        "\n",
        "    #La matriz proporcionada debe ser una matriz nxn, es decir, una matriz cuadrada\n",
        "    if A.shape[0]!=A.shape[1]:\n",
        "        raise ValueError(\"La matriz debe ser cuadrada.\")\n",
        "\n",
        "    L=np.eye(n) #L se inicializa como la matriz identidad\n",
        "    U=A.astype(float).copy()\n",
        "\n",
        "    #Proceso de eliminaión Gaussiana\n",
        "    for i in range(n):\n",
        "        if U[i, i]==0:\n",
        "            raise ValueError(\"Factorización imposible\")\n",
        "\n",
        "        for j in range(i+1, n):\n",
        "            factor=U[j, i]/U[i, i]\n",
        "            L[j, i]=factor\n",
        "            U[j, i:]=U[j, i:]-factor*U[i, i:]\n",
        "\n",
        "    return L, U\n",
        "\n",
        "A=np.array([[1, 1, 0, 3],\n",
        "            [2, 1, -1, 1],\n",
        "            [3, -1, -1, 2],\n",
        "            [-1, 2, 3, -1]], dtype=float)\n",
        "\n",
        "try:\n",
        "    L, U=factorizacion_LU(A)\n",
        "    print(\"La matriz L es:\")\n",
        "    print(L)\n",
        "    print(\"\\nLa matriz U es:\")\n",
        "    print(U)\n",
        "except ValueError as e:\n",
        "    print(f\"Error: {e}\")"
      ]
    }
  ]
}