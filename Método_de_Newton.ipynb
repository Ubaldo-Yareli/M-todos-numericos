{
  "nbformat": 4,
  "nbformat_minor": 0,
  "metadata": {
    "colab": {
      "provenance": [],
      "authorship_tag": "ABX9TyPUrkvk5lVW2vC5d4ZSvkLc",
      "include_colab_link": true
    },
    "kernelspec": {
      "name": "python3",
      "display_name": "Python 3"
    },
    "language_info": {
      "name": "python"
    }
  },
  "cells": [
    {
      "cell_type": "markdown",
      "metadata": {
        "id": "view-in-github",
        "colab_type": "text"
      },
      "source": [
        "<a href=\"https://colab.research.google.com/github/Ubaldo-Yareli/M-todos-numericos/blob/main/M%C3%A9todo_de_Newton.ipynb\" target=\"_parent\"><img src=\"https://colab.research.google.com/assets/colab-badge.svg\" alt=\"Open In Colab\"/></a>"
      ]
    },
    {
      "cell_type": "code",
      "source": [
        "import sympy as sp\n",
        "import numpy as np\n",
        "import matplotlib.pyplot as plt"
      ],
      "metadata": {
        "id": "75YTRAMPwcNH"
      },
      "execution_count": 30,
      "outputs": []
    },
    {
      "cell_type": "markdown",
      "source": [
        "Se define la función con el simbolo $x$, y se expresa la función $x^3-x-1$, posteriormente, se realiza la derivada que es $3x^2-1$."
      ],
      "metadata": {
        "id": "hpCIZeYaxpd0"
      }
    },
    {
      "cell_type": "code",
      "source": [
        "#Definir la variable simbólica y la función\n",
        "x=sp.Symbol('x')\n",
        "f_expr=x**3-x-1 #Función\n",
        "df_expr=sp.diff(f_expr, x) #Derivada"
      ],
      "metadata": {
        "id": "_DseYQcQwftC"
      },
      "execution_count": 31,
      "outputs": []
    },
    {
      "cell_type": "code",
      "source": [
        "f=sp.lambdify(x, f_expr)\n",
        "df=sp.lambdify(x, df_expr)"
      ],
      "metadata": {
        "id": "6JDfeoGcwjCc"
      },
      "execution_count": 37,
      "outputs": []
    },
    {
      "cell_type": "code",
      "source": [
        "def newton(p0, tol, N0):\n",
        "    print(\"#iter \\t\\t\\t p0 \\t\\t\\t f(p0) \\t\\t\\t df(p0) \\t\\t p (redondeado) \\t\\t Error\") #Imprimir el inicio de la tabla\n",
        "    iter=1  #Iteración inicial\n",
        "    error=None\n",
        "    while iter<=N0:\n",
        "        f_p0=f(p0)\n",
        "        df_p0=df(p0)\n",
        "        p=p0-(f_p0/df_p0)\n",
        "\n",
        "        if iter>1:\n",
        "            error=abs(p-p0) #Error en valor absoluto\n",
        "\n",
        "        if error is not None:\n",
        "            print(f\"{iter} \\t\\t\\t {p0:.3f} \\t\\t\\t {f_p0:.3f} \\t\\t\\t {df_p0:.3f} \\t\\t\\t {p:.3f} \\t\\t\\t\\t {error:.3f}\")\n",
        "        else:\n",
        "            print(f\"{iter} \\t\\t\\t {p0:.3f} \\t\\t\\t {f_p0:.3f} \\t\\t {df_p0:.3f} \\t\\t\\t {p:.3f} \\t\\t\\t\\t -\")\n",
        "\n",
        "        if error is not None and error < tol:\n",
        "            break\n",
        "\n",
        "        iter+=1\n",
        "        p0=p\n",
        "    print(f\"\\nEl resultado final de: {p0:.3f}, con un error de {error:.3f}\")\n",
        "\n",
        "p0=1\n",
        "tol=1e-2\n",
        "N0=100 #Hasta 100 iteraciones\n",
        "\n",
        "newton(p0, tol, N0)"
      ],
      "metadata": {
        "colab": {
          "base_uri": "https://localhost:8080/"
        },
        "id": "QraedPHUxZmp",
        "outputId": "ef441523-7a98-4c6f-e0d5-69fe4f26d9a1"
      },
      "execution_count": 44,
      "outputs": [
        {
          "output_type": "stream",
          "name": "stdout",
          "text": [
            "#iter \t\t\t p0 \t\t\t f(p0) \t\t\t df(p0) \t\t p (redondeado) \t\t Error\n",
            "1 \t\t\t 1.000 \t\t\t -1.000 \t\t 2.000 \t\t\t 1.500 \t\t\t\t -\n",
            "2 \t\t\t 1.500 \t\t\t 0.875 \t\t\t 5.750 \t\t\t 1.348 \t\t\t\t 0.152\n",
            "3 \t\t\t 1.348 \t\t\t 0.101 \t\t\t 4.450 \t\t\t 1.325 \t\t\t\t 0.023\n",
            "4 \t\t\t 1.325 \t\t\t 0.002 \t\t\t 4.268 \t\t\t 1.325 \t\t\t\t 0.000\n",
            "\n",
            "El resultado final de: 1.325, con un error de 0.000\n"
          ]
        }
      ]
    },
    {
      "cell_type": "markdown",
      "source": [
        "La función se evalua en $p0=1$, se evalua la derivada en ese mismo $p0$ y se busca el valor de $p$, siendo la fórmula para encontrarlo $p=p0-[f(p0)/df(p0)]$, redondeando el valor de $p$, como la primera iteración no tiene error, se pasa a la segunda iteración, donde $p$ pasa a ser el valor de $p0$ y se realizan los mismos pasos hasta llegar al error con $1e-2$."
      ],
      "metadata": {
        "id": "3rpyHcgG2G0_"
      }
    }
  ]
}