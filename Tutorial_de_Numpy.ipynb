{
  "nbformat": 4,
  "nbformat_minor": 0,
  "metadata": {
    "colab": {
      "provenance": [],
      "authorship_tag": "ABX9TyNsyAOcvOOePV3D3HnVDiLN",
      "include_colab_link": true
    },
    "kernelspec": {
      "name": "python3",
      "display_name": "Python 3"
    },
    "language_info": {
      "name": "python"
    }
  },
  "cells": [
    {
      "cell_type": "markdown",
      "metadata": {
        "id": "view-in-github",
        "colab_type": "text"
      },
      "source": [
        "<a href=\"https://colab.research.google.com/github/Ubaldo-Yareli/M-todos-numericos/blob/main/Tutorial_de_Numpy.ipynb\" target=\"_parent\"><img src=\"https://colab.research.google.com/assets/colab-badge.svg\" alt=\"Open In Colab\"/></a>"
      ]
    },
    {
      "cell_type": "code",
      "execution_count": 1,
      "metadata": {
        "id": "HZWJN7UParvW"
      },
      "outputs": [],
      "source": [
        "import numpy as np"
      ]
    },
    {
      "cell_type": "markdown",
      "source": [
        "Numpy es una librería especializada en el cálculo numérico y el análisis de datos, incorporando una calse de datos llamados Arrays, donde se pueden\n",
        "recolectar una gran cantidad de datos de un mismo tipo en diferentes dimensiones, realizando un procesamiento de forma rápida.\n",
        "\n",
        "Los arrays seorganizan en forma de tabla o cuadrícula que puede ser de distintas dimensiones, $1D$, $2D$ Y $3D$."
      ],
      "metadata": {
        "id": "imeeYmeRazj8"
      }
    },
    {
      "cell_type": "code",
      "source": [
        "#Un ejemplo de un array de 2 dimesiones\n",
        "import numpy as np\n",
        "m=np.array([[1, 2, 3], [4, 5, 6]])\n",
        "print (m.shape) #Que imprima el tamaño del arreglo\n",
        "print (m)"
      ],
      "metadata": {
        "colab": {
          "base_uri": "https://localhost:8080/"
        },
        "id": "IVN8hG-BaxT7",
        "outputId": "e0798dbc-96e9-4acd-e3c8-9b30566ab0a4"
      },
      "execution_count": 2,
      "outputs": [
        {
          "output_type": "stream",
          "name": "stdout",
          "text": [
            "(2, 3)\n",
            "[[1 2 3]\n",
            " [4 5 6]]\n"
          ]
        }
      ]
    },
    {
      "cell_type": "code",
      "source": [
        "#Un ejemplo de un array de 3 dimensiones es:\n",
        "import numpy as np\n",
        "m=np.array ([[[1, 2, 3], [4, 5, 6], [7, 8, 9]], [[11, 12, 13], [14, 15, 16], [17, 18, 19]]])\n",
        "print (m.shape) #Que imprima el tamaño del arreglo\n",
        "print (m)"
      ],
      "metadata": {
        "colab": {
          "base_uri": "https://localhost:8080/"
        },
        "id": "P82UmAyZa7Zh",
        "outputId": "b935d669-1142-412a-f8af-0aecfb005ac8"
      },
      "execution_count": 3,
      "outputs": [
        {
          "output_type": "stream",
          "name": "stdout",
          "text": [
            "(2, 3, 3)\n",
            "[[[ 1  2  3]\n",
            "  [ 4  5  6]\n",
            "  [ 7  8  9]]\n",
            "\n",
            " [[11 12 13]\n",
            "  [14 15 16]\n",
            "  [17 18 19]]]\n"
          ]
        }
      ]
    },
    {
      "cell_type": "markdown",
      "source": [
        "El número de dimensiones del array dependerá de las listas o tuplas anidadas en lista.\n",
        "\n",
        "Un array de una dimensión también es conocido como un vector.\n",
        "\n",
        "Un array de dos dimensiones también es conodico como una matriz.\n",
        "\n",
        "Un array de tres dimensiones también es conocido como un cubo, etc."
      ],
      "metadata": {
        "id": "HQ_biRnQa992"
      }
    },
    {
      "cell_type": "markdown",
      "source": [
        "Existen diferentes funciones que permiten agregar arrays, donde se especifica las dimensiones que se quieran tener, como lo son:\n",
        "np.empty(dimensiones)-Array vacío.\n",
        "\n",
        "np.zeros(dimensiones)-Array con elementos cero.\n",
        "\n",
        "np.ones(dimensiones)-Array con elementos uno.\n",
        "\n",
        "np.full(dimensiones, valor)-Array con todos los elementos un valor.\n",
        "\n",
        "np.identity(n)-Crea y devuelve una referencia a la matriz identidad de dimensión n.\n",
        "\n",
        "np.arange(inicio, fin, salto)-Array con elementos que son la secuencia con un inicio y un fintomando valores cada salto.\n",
        "\n",
        "np.linspace(inicio, fin, n)-Array de una dimensión con elementos que son la secuencia de n valores equidistantes.\n",
        "\n",
        "np.random.random(dimensiones)-Array con la tupla dimensiones cuyos elementos son aleatorios."
      ],
      "metadata": {
        "id": "uzuUQq-lby0A"
      }
    },
    {
      "cell_type": "code",
      "source": [
        "#Ejemplo de array con unos\n",
        "import numpy as np\n",
        "m=np.ones(3)\n",
        "print (m)"
      ],
      "metadata": {
        "colab": {
          "base_uri": "https://localhost:8080/"
        },
        "id": "lmxZsXpIbDhr",
        "outputId": "fc2c5b5c-26e5-4f0a-b552-1473fc77ab67"
      },
      "execution_count": 5,
      "outputs": [
        {
          "output_type": "stream",
          "name": "stdout",
          "text": [
            "[1. 1. 1.]\n"
          ]
        }
      ]
    },
    {
      "cell_type": "code",
      "source": [
        "#Ejemplo de matriz identidad I4\n",
        "import numpy as np\n",
        "n=np.identity(4)\n",
        "print (n)"
      ],
      "metadata": {
        "colab": {
          "base_uri": "https://localhost:8080/"
        },
        "id": "Bhb0RvocbFle",
        "outputId": "177c0c1f-ec80-4cda-eb55-51926223b58f"
      },
      "execution_count": 6,
      "outputs": [
        {
          "output_type": "stream",
          "name": "stdout",
          "text": [
            "[[1. 0. 0. 0.]\n",
            " [0. 1. 0. 0.]\n",
            " [0. 0. 1. 0.]\n",
            " [0. 0. 0. 1.]]\n"
          ]
        }
      ]
    },
    {
      "cell_type": "markdown",
      "source": [
        "Para poder acceder a los elementos de un array se utilizan índices (que comienzan en $0$).\n",
        "\n",
        "También, se puede obtener subarrays con el operador dos puntos : indicando el índice inicial y el siguiente al final para cada dimensión."
      ],
      "metadata": {
        "id": "GU8I2sFWbJAR"
      }
    },
    {
      "cell_type": "code",
      "source": [
        "import numpy as np\n",
        "m=np.array([[1, 2, 3], [4, 5, 6]])\n",
        "print(m[1, 2]) #Elemento que se quiere en fila, colúmna"
      ],
      "metadata": {
        "colab": {
          "base_uri": "https://localhost:8080/"
        },
        "id": "1GGdc_B4bLR3",
        "outputId": "eb9b8379-064a-4e05-c05f-8eba49d7106d"
      },
      "execution_count": 7,
      "outputs": [
        {
          "output_type": "stream",
          "name": "stdout",
          "text": [
            "6\n"
          ]
        }
      ]
    },
    {
      "cell_type": "markdown",
      "source": [
        "Además, se pueden filtrar los elementos de un array dependiendo de si cumplen la condición que pida"
      ],
      "metadata": {
        "id": "ntbDjKElbNjR"
      }
    },
    {
      "cell_type": "markdown",
      "source": [
        "También, se pueden hacer operaciones con arrays, como los son la suma $(+)$, resta $(-)$, división $(/)$ e incluso elevarlos a exponentes $(**)$.\n",
        "\n",
        "Además, como los arrays de segunda dimensión son considerados matrices, se puede realizar multiplicación escalar $(@)$, la norma de un vector,\n",
        "la transpuesta de una matriz, su traza, determinante o la matriz inversa."
      ],
      "metadata": {
        "id": "CPxqo43VbPdZ"
      }
    },
    {
      "cell_type": "code",
      "source": [
        "import numpy as np\n",
        "m=np.array([1, 2, 3])\n",
        "n=np.array([4, 5, 6])\n",
        "o=np.array([[1, 2, 3], [4, 5, 6]])\n",
        "p=np.array([[1, 2, 3], [4, 5, 6], [7, 8, 9]])\n",
        "print (m+n) #Suma\n",
        "print (m-n) #Resta\n",
        "print (m**2) #Elevar a un exponente\n",
        "print (m/n) #División\n",
        "print (m@n) #Multiplicaión escalar\n",
        "print(np.linalg.norm(m)) #Módulo\n",
        "print(m.T) #Transpuesta de la matriz\n",
        "print (o.trace()) #Traza de la matriz\n",
        "print(np.linalg.det(p)) #Determinate de la matriz"
      ],
      "metadata": {
        "colab": {
          "base_uri": "https://localhost:8080/"
        },
        "id": "y7MYe7zobTFH",
        "outputId": "cd61f841-c4ca-4e16-edaf-5555e6dc5b0c"
      },
      "execution_count": 9,
      "outputs": [
        {
          "output_type": "stream",
          "name": "stdout",
          "text": [
            "[5 7 9]\n",
            "[-3 -3 -3]\n",
            "[1 4 9]\n",
            "[0.25 0.4  0.5 ]\n",
            "32\n",
            "3.7416573867739413\n",
            "[1 2 3]\n",
            "6\n",
            "0.0\n"
          ]
        }
      ]
    },
    {
      "cell_type": "markdown",
      "source": [
        "Puede ayudar a resolver sistemas de ecuaciones, donde el array $a$ son los coeficientes de la incógnitas y el array $b$ los valores\n",
        "independientes."
      ],
      "metadata": {
        "id": "lh0-TEQKbVE2"
      }
    },
    {
      "cell_type": "code",
      "source": [
        "import numpy as np\n",
        "#Sistema de ecuación lineal 3x3\n",
        "#2x+3y-2z=5\n",
        "#3x-4y+3z=8\n",
        "#2x-4y-2z=6\n",
        "a=np.array([[5, -2, 1], [2, 5, -2], [1, -4, 3]])\n",
        "b = np.array([24, -14, 26])\n",
        "print(np.linalg.solve(a, b)) #Valores de x, y, z"
      ],
      "metadata": {
        "colab": {
          "base_uri": "https://localhost:8080/"
        },
        "id": "UaFTnPiGbW5q",
        "outputId": "ff15a7c0-e590-4c3e-d27d-4b220da192e6"
      },
      "execution_count": 11,
      "outputs": [
        {
          "output_type": "stream",
          "name": "stdout",
          "text": [
            "[ 3. -2.  5.]\n"
          ]
        }
      ]
    },
    {
      "cell_type": "code",
      "source": [],
      "metadata": {
        "id": "b7bZYhUGdE8H"
      },
      "execution_count": null,
      "outputs": []
    }
  ]
}